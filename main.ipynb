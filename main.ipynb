{
 "metadata": {
  "language_info": {
   "codemirror_mode": {
    "name": "ipython",
    "version": 3
   },
   "file_extension": ".py",
   "mimetype": "text/x-python",
   "name": "python",
   "nbconvert_exporter": "python",
   "pygments_lexer": "ipython3",
   "version": "3.8.6-final"
  },
  "orig_nbformat": 2,
  "kernelspec": {
   "name": "vpython",
   "display_name": "VPython",
   "language": "python"
  }
 },
 "nbformat": 4,
 "nbformat_minor": 2,
 "cells": [
  {
   "cell_type": "code",
   "execution_count": 1,
   "metadata": {},
   "outputs": [],
   "source": [
    "%run helpers.py\n",
    "%run classification.py\n",
    "%run transformations.py\n",
    "%run model.py\n",
    "%run prediction.py"
   ]
  },
  {
   "cell_type": "code",
   "execution_count": 2,
   "metadata": {},
   "outputs": [],
   "source": [
    "import argparse\n",
    "import os\n",
    "import torch\n",
    "import classification\n",
    "import helpers\n",
    "import transformations as tr\n",
    "import model\n",
    "import prediction\n",
    "from torchvision import transforms\n",
    "from torch.utils.data import DataLoader"
   ]
  },
  {
   "cell_type": "code",
   "execution_count": 3,
   "metadata": {},
   "outputs": [],
   "source": [
    "def parse_cmdline_arguments():\n",
    "    \"\"\"Parse command line arguments\"\"\"\n",
    "    parser = argparse.ArgumentParser(description='Player and Team Recognition...')\n",
    "    parser.add_argument('--perform', type=str.lower,\n",
    "                        choices=['train', 'predict', 'predict_and_color', 'train_and_predict'],\n",
    "                        default='train_and_predict', help='Perform training or prediction or both')\n",
    "    parser.add_argument('-d', '--dir_path', type=str, default=(os.getcwd() + '\\\\data\\\\part1_all'),\n",
    "                        help='Full path of dataset containing images for training the model')\n",
    "    parser.add_argument('-t', '--test_images_path', type=str, default=(os.getcwd() + '\\\\data\\\\test_images'),\n",
    "                        help='Full path of dataset containing test images')\n",
    "    parser.add_argument('--csv_file_dir', type=str, default=(os.getcwd() + '\\\\data\\\\part2'),\n",
    "                        help='CSV file directory having bbox for images')\n",
    "    parser.add_argument('-m', '--pretrained_model', type=str.lower,\n",
    "                        choices=['resnet18', 'resnet34', 'densenet161', 'inceptionresnetv2'],\n",
    "                        default='inceptionresnetv2', help='Pretrained base model')\n",
    "    parser.add_argument('-e', '--epochs', type=int, default=20,  help='No. of epochs')\n",
    "    parser.add_argument('--optimizer', type=str.lower, choices=['sgd', 'adam'],\n",
    "                        default='sgd', help='Optimizer function')\n",
    "    parser.add_argument('-bs', '--batch_size', type=int, default=32,\n",
    "                        help='Batch size')\n",
    "    parser.add_argument('-lr', '--learning_rate', type=float, default=0.00001,\n",
    "                        help='Learning rate')\n",
    "    parser.add_argument('--show_plot', type=bool, choices=[True, False], default=True,\n",
    "                        help='Display/Show corresponding plot')\n",
    "    parser.add_argument('-v', '--verbose', action=\"store_true\",\n",
    "                        help='Increase output verbosity')\n",
    "\n",
    "    return parser.parse_args(args=[])\n"
   ]
  },
  {
   "cell_type": "code",
   "execution_count": 4,
   "metadata": {},
   "outputs": [
    {
     "output_type": "stream",
     "name": "stdout",
     "text": [
      "{'wigan': 0, 'spal_team_a': 1, 'bristol': 2, 'nottingham_forrest': 3, 'spal_team_b': 4, 'middlesbrough': 5} {'person_3': 0, 'person_10': 1, 'person_5': 2, 'person_4': 3, 'person_2': 4, 'person_6': 5}\n",
      "cpu\n",
      "Epoch: 1 \tTraining Loss: 3.5775 \tValidation Loss: 3.5556 \tTraining Acc: 0.2468 \tValidation Acc: 0.3333\n"
     ]
    },
    {
     "output_type": "error",
     "ename": "KeyboardInterrupt",
     "evalue": "",
     "traceback": [
      "\u001b[1;31m---------------------------------------------------------------------------\u001b[0m",
      "\u001b[1;31mKeyboardInterrupt\u001b[0m                         Traceback (most recent call last)",
      "\u001b[1;32m<ipython-input-4-0c3dbc322c3b>\u001b[0m in \u001b[0;36m<module>\u001b[1;34m\u001b[0m\n\u001b[0;32m     52\u001b[0m \u001b[1;33m\u001b[0m\u001b[0m\n\u001b[0;32m     53\u001b[0m \u001b[1;32mif\u001b[0m \u001b[0m__name__\u001b[0m \u001b[1;33m==\u001b[0m \u001b[1;34m'__main__'\u001b[0m\u001b[1;33m:\u001b[0m\u001b[1;33m\u001b[0m\u001b[1;33m\u001b[0m\u001b[0m\n\u001b[1;32m---> 54\u001b[1;33m     \u001b[0mmain\u001b[0m\u001b[1;33m(\u001b[0m\u001b[1;33m)\u001b[0m\u001b[1;33m\u001b[0m\u001b[1;33m\u001b[0m\u001b[0m\n\u001b[0m",
      "\u001b[1;32m<ipython-input-4-0c3dbc322c3b>\u001b[0m in \u001b[0;36mmain\u001b[1;34m()\u001b[0m\n\u001b[0;32m     31\u001b[0m     \u001b[1;31m# Perform the model training\u001b[0m\u001b[1;33m\u001b[0m\u001b[1;33m\u001b[0m\u001b[1;33m\u001b[0m\u001b[0m\n\u001b[0;32m     32\u001b[0m     \u001b[1;32mif\u001b[0m \u001b[0margs\u001b[0m\u001b[1;33m.\u001b[0m\u001b[0mperform\u001b[0m \u001b[1;33m==\u001b[0m \u001b[1;34m'train'\u001b[0m \u001b[1;32mor\u001b[0m \u001b[0margs\u001b[0m\u001b[1;33m.\u001b[0m\u001b[0mperform\u001b[0m \u001b[1;33m==\u001b[0m \u001b[1;34m'train_and_predict'\u001b[0m\u001b[1;33m:\u001b[0m\u001b[1;33m\u001b[0m\u001b[1;33m\u001b[0m\u001b[0m\n\u001b[1;32m---> 33\u001b[1;33m         model_CNN = model_CNN.train_model(model_CNN, dataloaders, criterions, optimizer, device, n_epochs=args.epochs,\n\u001b[0m\u001b[0;32m     34\u001b[0m         show_plot=args.show_plot)\n\u001b[0;32m     35\u001b[0m         \u001b[0mtorch\u001b[0m\u001b[1;33m.\u001b[0m\u001b[0msave\u001b[0m\u001b[1;33m(\u001b[0m\u001b[0mmodel_CNN\u001b[0m\u001b[1;33m.\u001b[0m\u001b[0mstate_dict\u001b[0m\u001b[1;33m(\u001b[0m\u001b[1;33m)\u001b[0m\u001b[1;33m,\u001b[0m \u001b[1;34m'model_CNN.ckpt'\u001b[0m\u001b[1;33m)\u001b[0m\u001b[1;33m\u001b[0m\u001b[1;33m\u001b[0m\u001b[0m\n",
      "\u001b[1;32md:\\OneDrive\\Desktop\\player_and_team_recognition\\model.py\u001b[0m in \u001b[0;36mtrain_model\u001b[1;34m(self, model, dataloaders, criterions, optimizer, device, n_epochs, show_plot)\u001b[0m\n\u001b[0;32m    123\u001b[0m \u001b[1;33m\u001b[0m\u001b[0m\n\u001b[0;32m    124\u001b[0m                     \u001b[1;32mif\u001b[0m \u001b[0mphase\u001b[0m \u001b[1;33m==\u001b[0m \u001b[1;34m\"train\"\u001b[0m\u001b[1;33m:\u001b[0m\u001b[1;33m\u001b[0m\u001b[1;33m\u001b[0m\u001b[0m\n\u001b[1;32m--> 125\u001b[1;33m                         \u001b[0mloss\u001b[0m\u001b[1;33m.\u001b[0m\u001b[0mbackward\u001b[0m\u001b[1;33m(\u001b[0m\u001b[1;33m)\u001b[0m\u001b[1;33m\u001b[0m\u001b[1;33m\u001b[0m\u001b[0m\n\u001b[0m\u001b[0;32m    126\u001b[0m                         \u001b[0moptimizer\u001b[0m\u001b[1;33m.\u001b[0m\u001b[0mstep\u001b[0m\u001b[1;33m(\u001b[0m\u001b[1;33m)\u001b[0m\u001b[1;33m\u001b[0m\u001b[1;33m\u001b[0m\u001b[0m\n\u001b[0;32m    127\u001b[0m \u001b[1;33m\u001b[0m\u001b[0m\n",
      "\u001b[1;32mc:\\virtualenv_envs\\pt-hawk\\lib\\site-packages\\torch\\tensor.py\u001b[0m in \u001b[0;36mbackward\u001b[1;34m(self, gradient, retain_graph, create_graph)\u001b[0m\n\u001b[0;32m    219\u001b[0m                 \u001b[0mretain_graph\u001b[0m\u001b[1;33m=\u001b[0m\u001b[0mretain_graph\u001b[0m\u001b[1;33m,\u001b[0m\u001b[1;33m\u001b[0m\u001b[1;33m\u001b[0m\u001b[0m\n\u001b[0;32m    220\u001b[0m                 create_graph=create_graph)\n\u001b[1;32m--> 221\u001b[1;33m         \u001b[0mtorch\u001b[0m\u001b[1;33m.\u001b[0m\u001b[0mautograd\u001b[0m\u001b[1;33m.\u001b[0m\u001b[0mbackward\u001b[0m\u001b[1;33m(\u001b[0m\u001b[0mself\u001b[0m\u001b[1;33m,\u001b[0m \u001b[0mgradient\u001b[0m\u001b[1;33m,\u001b[0m \u001b[0mretain_graph\u001b[0m\u001b[1;33m,\u001b[0m \u001b[0mcreate_graph\u001b[0m\u001b[1;33m)\u001b[0m\u001b[1;33m\u001b[0m\u001b[1;33m\u001b[0m\u001b[0m\n\u001b[0m\u001b[0;32m    222\u001b[0m \u001b[1;33m\u001b[0m\u001b[0m\n\u001b[0;32m    223\u001b[0m     \u001b[1;32mdef\u001b[0m \u001b[0mregister_hook\u001b[0m\u001b[1;33m(\u001b[0m\u001b[0mself\u001b[0m\u001b[1;33m,\u001b[0m \u001b[0mhook\u001b[0m\u001b[1;33m)\u001b[0m\u001b[1;33m:\u001b[0m\u001b[1;33m\u001b[0m\u001b[1;33m\u001b[0m\u001b[0m\n",
      "\u001b[1;32mc:\\virtualenv_envs\\pt-hawk\\lib\\site-packages\\torch\\autograd\\__init__.py\u001b[0m in \u001b[0;36mbackward\u001b[1;34m(tensors, grad_tensors, retain_graph, create_graph, grad_variables)\u001b[0m\n\u001b[0;32m    128\u001b[0m         \u001b[0mretain_graph\u001b[0m \u001b[1;33m=\u001b[0m \u001b[0mcreate_graph\u001b[0m\u001b[1;33m\u001b[0m\u001b[1;33m\u001b[0m\u001b[0m\n\u001b[0;32m    129\u001b[0m \u001b[1;33m\u001b[0m\u001b[0m\n\u001b[1;32m--> 130\u001b[1;33m     Variable._execution_engine.run_backward(\n\u001b[0m\u001b[0;32m    131\u001b[0m         \u001b[0mtensors\u001b[0m\u001b[1;33m,\u001b[0m \u001b[0mgrad_tensors_\u001b[0m\u001b[1;33m,\u001b[0m \u001b[0mretain_graph\u001b[0m\u001b[1;33m,\u001b[0m \u001b[0mcreate_graph\u001b[0m\u001b[1;33m,\u001b[0m\u001b[1;33m\u001b[0m\u001b[1;33m\u001b[0m\u001b[0m\n\u001b[0;32m    132\u001b[0m         allow_unreachable=True)  # allow_unreachable flag\n",
      "\u001b[1;31mKeyboardInterrupt\u001b[0m: "
     ]
    }
   ],
   "source": [
    "def main():\n",
    "    args = parse_cmdline_arguments()\n",
    "    \n",
    "    # Check if the dataset directory exists and import the information about the players\n",
    "    helpers.check_path_exists(args.dir_path, 'train images directory')\n",
    "    df_player_info, teams_dic, players_dic = helpers.generate_player_info(args.dir_path, check_invalid_images_flag=False)\n",
    "    print(teams_dic, players_dic)\n",
    "\n",
    "    # Split the data and apply the transformations (resize, normalize, etc)\n",
    "    data = helpers.split_data(df_player_info, test_size=0.2)\n",
    "    train_transform = transforms.Compose([tr.Resize(224, 224), tr.ToTensor(), tr.Normalization()])\n",
    "    test_transform = transforms.Compose([tr.Resize(224, 224), tr.ToTensor(), tr.Normalization()])\n",
    "    data['train'] = classification.Classification(player_info=data['train'], transform=train_transform)\n",
    "    data['valid'] = classification.Classification(player_info=data['valid'], transform=train_transform)\n",
    "\n",
    "    # Generate the dataloaders for training and validation set\n",
    "    train_dataloader = DataLoader(dataset=data['train'], batch_size=args.batch_size, shuffle=True, num_workers=0)\n",
    "    valid_dataloader = DataLoader(dataset=data['valid'], batch_size=args.batch_size, shuffle=False, num_workers=0)\n",
    "    dataloaders = {phase:train_dataloader if phase == 'train' else valid_dataloader for phase in ['train', 'valid']}\n",
    "\n",
    "    # Define the model and move to the device available\n",
    "    # device = torch.device(\"cuda\" if torch.cuda.is_available() else \"cpu\")\n",
    "    device = torch.device(\"cpu\")\n",
    "    print(device)\n",
    "    model_CNN = model.Model(True, args.pretrained_model, len(teams_dic), len(players_dic), data, args)\n",
    "\n",
    "    # Define the Optimizer and Loss function\n",
    "    criterions, optimizer = model_CNN.compilation_parameters(model_CNN, args)\n",
    "    \n",
    "\n",
    "    # Perform the model training\n",
    "    if args.perform == 'train' or args.perform == 'train_and_predict':\n",
    "        model_CNN = model_CNN.train_model(model_CNN, dataloaders, criterions, optimizer, device, n_epochs=args.epochs,\n",
    "        show_plot=args.show_plot)\n",
    "        torch.save(model_CNN.state_dict(), 'model_CNN.ckpt')\n",
    "    \n",
    "    # Perform prediction on the images present in the specified directory\n",
    "    if args.perform == 'predict' or args.perform == 'train_and_predict':\n",
    "        model_CNN.load_state_dict(torch.load('model_CNN.ckpt'))\n",
    "        predict = prediction.Prediction(model_CNN, test_transform, teams_dic, players_dic)            \n",
    "        helpers.check_path_exists(args.test_images_path, 'test images directory')\n",
    "        predict.predict_images_in_directory(args.test_images_path, check_invalid_images_flag=False)\n",
    "        \n",
    "    # Perform prediction and color the section of images as per the prediction outcome\n",
    "    if args.perform == 'predict_and_color' or args.perform == 'train_and_predict':\n",
    "        model_CNN.load_state_dict(torch.load('model_CNN.ckpt'))\n",
    "        predict = prediction.Prediction(model_CNN, test_transform, teams_dic, players_dic)        \n",
    "        predict.predict_and_color_section_of_images(args.csv_file_dir, show_plot=args.show_plot)\n",
    "\n",
    "\n",
    "\n",
    "\n",
    "if __name__ == '__main__':\n",
    "    main()"
   ]
  }
 ]
}